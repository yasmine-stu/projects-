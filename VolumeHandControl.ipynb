{
 "cells": [
  {
   "cell_type": "code",
   "execution_count": 2,
   "metadata": {},
   "outputs": [],
   "source": [
    "import cv2 \n",
    "import mediapipe as mp\n",
    "import time\n",
    "import numpy as np\n",
    "import cvzone.HandTrackingModule as htm\n",
    "import math\n",
    "from ctypes import cast, POINTER\n",
    "from comtypes import CLSCTX_ALL\n",
    "from pycaw.pycaw import AudioUtilities , IAudioEndpointVolume\n"
   ]
  },
  {
   "cell_type": "code",
   "execution_count": 3,
   "metadata": {},
   "outputs": [],
   "source": [
    "cap=cv2.VideoCapture(0)\n",
    "detector=htm.HandDetector(detectionCon=0.7) #to be more precise in hand tracking\n",
    "#to display the frame hjjfo\n",
    "cTime=0\n",
    "pTime=0\n",
    "#volume parameters\n",
    "devices = AudioUtilities.GetSpeakers()\n",
    "interface=devices.Activate(IAudioEndpointVolume._iid_ , CLSCTX_ALL , None)\n",
    "volume=cast(interface , POINTER(IAudioEndpointVolume))\n",
    "volume.GetMute()\n",
    "volume.GetMasterVolumeLevel()\n",
    "\n",
    "volumeRange=volume.GetVolumeRange()\n",
    "minVol=volumeRange[0]\n",
    "maxVol=volumeRange[1]\n",
    "volBar=400\n"
   ]
  },
  {
   "cell_type": "code",
   "execution_count": 5,
   "metadata": {},
   "outputs": [],
   "source": [
    "while 1 : \n",
    "    \n",
    "    succ, img= cap.read()\n",
    "    img=detector.findHands(img)\n",
    "    #to find info and positions\n",
    "    lmListe = detector.findPosition(img, draw=False) \n",
    "    #find position returns a list that contains different positions of the hand in the hole pic\n",
    "     \n",
    "    \n",
    "    if len(lmListe[0])>=3:  \n",
    "        x1,y1=lmListe[0][4][0] ,  lmListe[0][4][1]\n",
    "        x2,y2=lmListe[0][8][0] ,  lmListe[0][8][1]\n",
    "        #get the middle of  the line \n",
    "        cx, cy = (x1+x2)//2 , (y1+y2)//2\n",
    "        \n",
    "        #draw a circle on the desired index : 4 and 8\n",
    "        cv2.circle(img,(x1,y1),10,(255,0,255),cv2.FILLED)\n",
    "                              #10:radious of the circle\n",
    "        cv2.circle(img,(x2,y2),10,(255,0,255),cv2.FILLED)\n",
    "        cv2.line(img,(x1,y1) ,(x2,y2) ,(255,0,255) , 2)\n",
    "                                                    #2: thikness of the line\n",
    "        \n",
    "        lenght=math.hypot(x2-x1 , y2-y1)\n",
    "        # we have to convert hand range [50..300]  to volume Range [-65.0]=>np.interp()\n",
    "        vol=np.interp(lenght, [50,300], [minVol , maxVol])\n",
    "\n",
    "        volBar=np.interp(lenght, [50,300], [400,150])\n",
    "        #to set the master volume\n",
    "        volume.SetMasterVolumeLevel(vol, None)   #retrun the intervall of volume\n",
    "\n",
    "    #draw a volume rec \n",
    "    cv2.rectangle(img, (50,150),(80,400),(255,0,0), 3)\n",
    "    cv2.rectangle(img, (50,int(volBar)),(80,400),(255,0,0), cv2.FILLED)\n",
    "    \n",
    "    #we can display the frame rate : \n",
    "    cTime = time.time()\n",
    "    fps=1/(cTime-pTime)\n",
    "    pTime=cTime\n",
    "    cv2.putText(img, str(int(fps)),(10,70), \n",
    "                cv2.FONT_HERSHEY_PLAIN, 3 , (255,0,255),3)\n",
    "\n",
    "\n",
    "    #to display the window\n",
    "    cv2.imshow('img', img)\n",
    "    cv2.waitKey(10)\n",
    "    if cv2.waitKey(10)==ord('a'):\n",
    "        break\n",
    "cv2.destroyAllWindows()"
   ]
  },
  {
   "cell_type": "code",
   "execution_count": null,
   "metadata": {},
   "outputs": [],
   "source": []
  },
  {
   "cell_type": "code",
   "execution_count": null,
   "metadata": {},
   "outputs": [],
   "source": []
  },
  {
   "cell_type": "code",
   "execution_count": null,
   "metadata": {},
   "outputs": [],
   "source": []
  },
  {
   "cell_type": "code",
   "execution_count": null,
   "metadata": {},
   "outputs": [],
   "source": []
  },
  {
   "cell_type": "code",
   "execution_count": null,
   "metadata": {},
   "outputs": [],
   "source": []
  },
  {
   "cell_type": "code",
   "execution_count": null,
   "metadata": {},
   "outputs": [],
   "source": []
  },
  {
   "cell_type": "code",
   "execution_count": null,
   "metadata": {},
   "outputs": [],
   "source": []
  },
  {
   "cell_type": "code",
   "execution_count": null,
   "metadata": {},
   "outputs": [],
   "source": []
  },
  {
   "cell_type": "code",
   "execution_count": null,
   "metadata": {},
   "outputs": [],
   "source": []
  }
 ],
 "metadata": {
  "kernelspec": {
   "display_name": "Python 3.9.7 ('base')",
   "language": "python",
   "name": "python3"
  },
  "language_info": {
   "codemirror_mode": {
    "name": "ipython",
    "version": 3
   },
   "file_extension": ".py",
   "mimetype": "text/x-python",
   "name": "python",
   "nbconvert_exporter": "python",
   "pygments_lexer": "ipython3",
   "version": "3.9.7"
  },
  "orig_nbformat": 4,
  "vscode": {
   "interpreter": {
    "hash": "d470617635d70ff6f6b8520d52e75a8430c7839a69960d0cd0916c5db88d17d6"
   }
  }
 },
 "nbformat": 4,
 "nbformat_minor": 2
}
